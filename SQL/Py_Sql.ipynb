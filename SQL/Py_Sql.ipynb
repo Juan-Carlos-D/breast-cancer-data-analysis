{
 "cells": [
  {
   "cell_type": "code",
   "execution_count": 1,
   "metadata": {},
   "outputs": [
    {
     "name": "stdout",
     "output_type": "stream",
     "text": [
      "Connected to MySQL database\n"
     ]
    }
   ],
   "source": [
    "import mysql.connector\n",
    "import pandas as pd\n",
    "import csv\n",
    "\n",
    "def create_connection():\n",
    "    try:\n",
    "        connection = mysql.connector.connect(\n",
    "            host=\"localhost\",\n",
    "            user=\"root\", \n",
    "            password=\"pw5330\", \n",
    "            database=\"breast_cancer\" \n",
    "        )\n",
    "        \n",
    "        if connection.is_connected():\n",
    "            print(\"Connected to MySQL database\")\n",
    "        return connection\n",
    "    except mysql.connector.Error as e:\n",
    "        print(f\"Error connecting to MySQL: {e}\")\n",
    "        return None\n",
    "\n",
    "connection = create_connection()"
   ]
  },
  {
   "cell_type": "code",
   "execution_count": null,
   "metadata": {},
   "outputs": [],
   "source": []
  }
 ],
 "metadata": {
  "kernelspec": {
   "display_name": "Python 3",
   "language": "python",
   "name": "python3"
  },
  "language_info": {
   "codemirror_mode": {
    "name": "ipython",
    "version": 3
   },
   "file_extension": ".py",
   "mimetype": "text/x-python",
   "name": "python",
   "nbconvert_exporter": "python",
   "pygments_lexer": "ipython3",
   "version": "3.12.6"
  }
 },
 "nbformat": 4,
 "nbformat_minor": 2
}

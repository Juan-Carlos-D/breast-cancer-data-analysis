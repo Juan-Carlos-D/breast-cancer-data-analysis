{
 "cells": [
  {
   "cell_type": "code",
   "execution_count": 4,
   "metadata": {},
   "outputs": [
    {
     "name": "stdout",
     "output_type": "stream",
     "text": [
      "Connected to MySQL database\n"
     ]
    }
   ],
   "source": [
    "import mysql.connector\n",
    "import pandas as pd\n",
    "import csv\n",
    "\n",
    "def create_connection():\n",
    "    try:\n",
    "        connection = mysql.connector.connect(\n",
    "            host=\"localhost\",\n",
    "            user=\"root\", \n",
    "            password=\"pw5330\", \n",
    "            database=\"breast_cancer\" \n",
    "        )\n",
    "        \n",
    "        if connection.is_connected():\n",
    "            print(\"Connected to MySQL database\")\n",
    "        return connection\n",
    "    except mysql.connector.Error as e:\n",
    "        print(f\"Error connecting to MySQL: {e}\")\n",
    "        return None\n",
    "\n",
    "connection = create_connection()"
   ]
  },
  {
   "cell_type": "code",
   "execution_count": 7,
   "metadata": {},
   "outputs": [
    {
     "name": "stdout",
     "output_type": "stream",
     "text": [
      "Connected to MySQL database\n",
      "Table 'cancer_data' already exists.\n"
     ]
    }
   ],
   "source": [
    "import mysql.connector\n",
    "\n",
    "def create_connection():\n",
    "    try:\n",
    "        connection = mysql.connector.connect(\n",
    "            host=\"localhost\",\n",
    "            user=\"root\", \n",
    "            password=\"pw5330\", \n",
    "            database=\"breast_cancer\" \n",
    "        )\n",
    "        if connection.is_connected():\n",
    "            print(\"Connected to MySQL database\")\n",
    "        return connection\n",
    "    except mysql.connector.Error as e:\n",
    "        print(f\"Error connecting to MySQL: {e}\")\n",
    "        return None\n",
    "\n",
    "def check_and_create_tables(cursor, connection):\n",
    "    cursor.execute(\"SHOW TABLES;\")\n",
    "    tables = [table[0].lower() for table in cursor.fetchall()]  # Convert table names to lower case\n",
    "\n",
    "    if 'cancer_data' not in tables:  # Check for 'cancer_data' in lower case\n",
    "        try:\n",
    "            create_table_query = \"\"\"\n",
    "            CREATE TABLE cancer_data (\n",
    "                radius_mean FLOAT,\n",
    "                texture_mean FLOAT,\n",
    "                perimeter_mean FLOAT,\n",
    "                area_mean FLOAT,\n",
    "                smoothness_mean FLOAT,\n",
    "                compactness_mean FLOAT,\n",
    "                concavity_mean FLOAT,\n",
    "                concave_points_mean FLOAT,\n",
    "                symmetry_mean FLOAT,\n",
    "                fractal_dimension_mean FLOAT,\n",
    "                texture_worst FLOAT,\n",
    "                perimeter_worst FLOAT,\n",
    "                area_worst FLOAT,\n",
    "                smoothness_worst FLOAT,\n",
    "                compactness_worst FLOAT,\n",
    "                concavity_worst FLOAT,\n",
    "                concave_points_worst FLOAT,\n",
    "                symmetry_worst FLOAT,\n",
    "                fractal_dimension_worst FLOAT,\n",
    "                diagnosis INT\n",
    "            );\n",
    "            \"\"\"\n",
    "            cursor.execute(create_table_query)\n",
    "            connection.commit()  # Commit the transaction\n",
    "            print(\"Created table: cancer_data\")\n",
    "        except mysql.connector.Error as e:\n",
    "            print(f\"Error creating table 'cancer_data': {e}\")\n",
    "    else:\n",
    "        print(\"Table 'cancer_data' already exists.\")\n",
    "\n",
    "# Main code to create the connection and check the table\n",
    "connection = create_connection()\n",
    "if connection:\n",
    "    cursor = connection.cursor()\n",
    "    check_and_create_tables(cursor, connection)  # Pass the connection to the function\n",
    "    cursor.close()\n",
    "    connection.close()\n",
    "else:\n",
    "    print(\"Failed to connect to the database.\")\n"
   ]
  },
  {
   "cell_type": "code",
   "execution_count": null,
   "metadata": {},
   "outputs": [],
   "source": []
  }
 ],
 "metadata": {
  "kernelspec": {
   "display_name": "Python 3",
   "language": "python",
   "name": "python3"
  },
  "language_info": {
   "codemirror_mode": {
    "name": "ipython",
    "version": 3
   },
   "file_extension": ".py",
   "mimetype": "text/x-python",
   "name": "python",
   "nbconvert_exporter": "python",
   "pygments_lexer": "ipython3",
   "version": "3.12.6"
  }
 },
 "nbformat": 4,
 "nbformat_minor": 2
}
